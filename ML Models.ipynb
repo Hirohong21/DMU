{
 "cells": [
  {
   "cell_type": "markdown",
   "metadata": {},
   "source": [
    "# Detecting Malicious URLs using Machine Learning\n",
    "\n",
    "Import appropriate packages."
   ]
  },
  {
   "cell_type": "code",
   "execution_count": 161,
   "metadata": {},
   "outputs": [],
   "source": [
    "# Models\n",
    "from sklearn.ensemble import RandomForestClassifier\n",
    "from sklearn.linear_model import LogisticRegression\n",
    "from sklearn.naive_bayes import GaussianNB\n",
    "from sklearn.neighbors import KNeighborsClassifier\n",
    "from sklearn.svm import SVC\n",
    "\n",
    "# Measuring Accuracy\n",
    "from sklearn.metrics import accuracy_score, classification_report, confusion_matrix, plot_roc_curve\n",
    "import matplotlib.pyplot as plt \n",
    "\n",
    "# Data processing\n",
    "from sklearn.model_selection import train_test_split, GridSearchCV\n",
    "from sklearn.preprocessing import StandardScaler\n",
    "import joblib\n",
    "\n",
    "# Save and load models\n",
    "import pickle\n",
    "\n",
    "# Managing Datasets\n",
    "import pandas as pd\n",
    "# Extra Graphs\n",
    "import seaborn as sns\n",
    "# Maths\n",
    "import numpy as np"
   ]
  },
  {
   "cell_type": "markdown",
   "metadata": {},
   "source": [
    "Scale the data to accomodate to some ML models such as KNN."
   ]
  },
  {
   "cell_type": "code",
   "execution_count": 162,
   "metadata": {},
   "outputs": [
    {
     "data": {
      "text/html": [
       "<div>\n",
       "<style scoped>\n",
       "    .dataframe tbody tr th:only-of-type {\n",
       "        vertical-align: middle;\n",
       "    }\n",
       "\n",
       "    .dataframe tbody tr th {\n",
       "        vertical-align: top;\n",
       "    }\n",
       "\n",
       "    .dataframe thead th {\n",
       "        text-align: right;\n",
       "    }\n",
       "</style>\n",
       "<table border=\"1\" class=\"dataframe\">\n",
       "  <thead>\n",
       "    <tr style=\"text-align: right;\">\n",
       "      <th></th>\n",
       "      <th>label</th>\n",
       "      <th>port</th>\n",
       "      <th>ip_1</th>\n",
       "      <th>ip_2</th>\n",
       "      <th>ip_3</th>\n",
       "      <th>ip_4</th>\n",
       "      <th>contains [</th>\n",
       "      <th>contains ]</th>\n",
       "      <th>contains {</th>\n",
       "      <th>contains }</th>\n",
       "      <th>...</th>\n",
       "      <th>x_powered_by_W3 Total Cache/0.11.0</th>\n",
       "      <th>x_powered_by_WordPress VIP &lt;https://wpvip.com&gt;</th>\n",
       "      <th>x_powered_by_science!</th>\n",
       "      <th>x_powered_by_nan</th>\n",
       "      <th>expires_year</th>\n",
       "      <th>expires_month</th>\n",
       "      <th>expires_day</th>\n",
       "      <th>asn_date_year</th>\n",
       "      <th>asn_date_month</th>\n",
       "      <th>asn_date_day</th>\n",
       "    </tr>\n",
       "  </thead>\n",
       "  <tbody>\n",
       "    <tr>\n",
       "      <th>0</th>\n",
       "      <td>0</td>\n",
       "      <td>80</td>\n",
       "      <td>172.0</td>\n",
       "      <td>217.0</td>\n",
       "      <td>169.0</td>\n",
       "      <td>33.0</td>\n",
       "      <td>0</td>\n",
       "      <td>0</td>\n",
       "      <td>0</td>\n",
       "      <td>0</td>\n",
       "      <td>...</td>\n",
       "      <td>0</td>\n",
       "      <td>0</td>\n",
       "      <td>0</td>\n",
       "      <td>0</td>\n",
       "      <td>2021.0</td>\n",
       "      <td>3.0</td>\n",
       "      <td>16.0</td>\n",
       "      <td>2012.0</td>\n",
       "      <td>4.0</td>\n",
       "      <td>16.0</td>\n",
       "    </tr>\n",
       "    <tr>\n",
       "      <th>1</th>\n",
       "      <td>0</td>\n",
       "      <td>80</td>\n",
       "      <td>205.0</td>\n",
       "      <td>178.0</td>\n",
       "      <td>189.0</td>\n",
       "      <td>131.0</td>\n",
       "      <td>0</td>\n",
       "      <td>0</td>\n",
       "      <td>0</td>\n",
       "      <td>0</td>\n",
       "      <td>...</td>\n",
       "      <td>0</td>\n",
       "      <td>0</td>\n",
       "      <td>0</td>\n",
       "      <td>0</td>\n",
       "      <td>0.0</td>\n",
       "      <td>0.0</td>\n",
       "      <td>0.0</td>\n",
       "      <td>1999.0</td>\n",
       "      <td>2.0</td>\n",
       "      <td>9.0</td>\n",
       "    </tr>\n",
       "    <tr>\n",
       "      <th>2</th>\n",
       "      <td>0</td>\n",
       "      <td>80</td>\n",
       "      <td>92.0</td>\n",
       "      <td>242.0</td>\n",
       "      <td>132.0</td>\n",
       "      <td>24.0</td>\n",
       "      <td>0</td>\n",
       "      <td>0</td>\n",
       "      <td>0</td>\n",
       "      <td>0</td>\n",
       "      <td>...</td>\n",
       "      <td>0</td>\n",
       "      <td>0</td>\n",
       "      <td>0</td>\n",
       "      <td>0</td>\n",
       "      <td>2021.0</td>\n",
       "      <td>3.0</td>\n",
       "      <td>16.0</td>\n",
       "      <td>2007.0</td>\n",
       "      <td>12.0</td>\n",
       "      <td>27.0</td>\n",
       "    </tr>\n",
       "    <tr>\n",
       "      <th>3</th>\n",
       "      <td>0</td>\n",
       "      <td>443</td>\n",
       "      <td>52.0</td>\n",
       "      <td>198.0</td>\n",
       "      <td>17.0</td>\n",
       "      <td>132.0</td>\n",
       "      <td>0</td>\n",
       "      <td>0</td>\n",
       "      <td>0</td>\n",
       "      <td>0</td>\n",
       "      <td>...</td>\n",
       "      <td>0</td>\n",
       "      <td>0</td>\n",
       "      <td>0</td>\n",
       "      <td>0</td>\n",
       "      <td>1984.0</td>\n",
       "      <td>1.0</td>\n",
       "      <td>11.0</td>\n",
       "      <td>2015.0</td>\n",
       "      <td>9.0</td>\n",
       "      <td>2.0</td>\n",
       "    </tr>\n",
       "    <tr>\n",
       "      <th>4</th>\n",
       "      <td>0</td>\n",
       "      <td>80</td>\n",
       "      <td>54.0</td>\n",
       "      <td>241.0</td>\n",
       "      <td>17.0</td>\n",
       "      <td>98.0</td>\n",
       "      <td>0</td>\n",
       "      <td>0</td>\n",
       "      <td>0</td>\n",
       "      <td>0</td>\n",
       "      <td>...</td>\n",
       "      <td>0</td>\n",
       "      <td>0</td>\n",
       "      <td>0</td>\n",
       "      <td>1</td>\n",
       "      <td>0.0</td>\n",
       "      <td>0.0</td>\n",
       "      <td>0.0</td>\n",
       "      <td>2012.0</td>\n",
       "      <td>3.0</td>\n",
       "      <td>1.0</td>\n",
       "    </tr>\n",
       "    <tr>\n",
       "      <th>...</th>\n",
       "      <td>...</td>\n",
       "      <td>...</td>\n",
       "      <td>...</td>\n",
       "      <td>...</td>\n",
       "      <td>...</td>\n",
       "      <td>...</td>\n",
       "      <td>...</td>\n",
       "      <td>...</td>\n",
       "      <td>...</td>\n",
       "      <td>...</td>\n",
       "      <td>...</td>\n",
       "      <td>...</td>\n",
       "      <td>...</td>\n",
       "      <td>...</td>\n",
       "      <td>...</td>\n",
       "      <td>...</td>\n",
       "      <td>...</td>\n",
       "      <td>...</td>\n",
       "      <td>...</td>\n",
       "      <td>...</td>\n",
       "      <td>...</td>\n",
       "    </tr>\n",
       "    <tr>\n",
       "      <th>395</th>\n",
       "      <td>1</td>\n",
       "      <td>49963</td>\n",
       "      <td>219.0</td>\n",
       "      <td>155.0</td>\n",
       "      <td>98.0</td>\n",
       "      <td>60.0</td>\n",
       "      <td>0</td>\n",
       "      <td>0</td>\n",
       "      <td>0</td>\n",
       "      <td>0</td>\n",
       "      <td>...</td>\n",
       "      <td>0</td>\n",
       "      <td>0</td>\n",
       "      <td>0</td>\n",
       "      <td>0</td>\n",
       "      <td>2021.0</td>\n",
       "      <td>3.0</td>\n",
       "      <td>16.0</td>\n",
       "      <td>2002.0</td>\n",
       "      <td>3.0</td>\n",
       "      <td>21.0</td>\n",
       "    </tr>\n",
       "    <tr>\n",
       "      <th>396</th>\n",
       "      <td>1</td>\n",
       "      <td>44360</td>\n",
       "      <td>59.0</td>\n",
       "      <td>23.0</td>\n",
       "      <td>39.0</td>\n",
       "      <td>209.0</td>\n",
       "      <td>0</td>\n",
       "      <td>0</td>\n",
       "      <td>0</td>\n",
       "      <td>0</td>\n",
       "      <td>...</td>\n",
       "      <td>0</td>\n",
       "      <td>0</td>\n",
       "      <td>0</td>\n",
       "      <td>1</td>\n",
       "      <td>0.0</td>\n",
       "      <td>0.0</td>\n",
       "      <td>0.0</td>\n",
       "      <td>2004.0</td>\n",
       "      <td>8.0</td>\n",
       "      <td>2.0</td>\n",
       "    </tr>\n",
       "    <tr>\n",
       "      <th>397</th>\n",
       "      <td>1</td>\n",
       "      <td>57652</td>\n",
       "      <td>103.0</td>\n",
       "      <td>235.0</td>\n",
       "      <td>165.0</td>\n",
       "      <td>165.0</td>\n",
       "      <td>0</td>\n",
       "      <td>0</td>\n",
       "      <td>0</td>\n",
       "      <td>0</td>\n",
       "      <td>...</td>\n",
       "      <td>0</td>\n",
       "      <td>0</td>\n",
       "      <td>0</td>\n",
       "      <td>1</td>\n",
       "      <td>0.0</td>\n",
       "      <td>0.0</td>\n",
       "      <td>0.0</td>\n",
       "      <td>2016.0</td>\n",
       "      <td>9.0</td>\n",
       "      <td>14.0</td>\n",
       "    </tr>\n",
       "    <tr>\n",
       "      <th>398</th>\n",
       "      <td>1</td>\n",
       "      <td>37194</td>\n",
       "      <td>116.0</td>\n",
       "      <td>74.0</td>\n",
       "      <td>242.0</td>\n",
       "      <td>71.0</td>\n",
       "      <td>0</td>\n",
       "      <td>0</td>\n",
       "      <td>0</td>\n",
       "      <td>0</td>\n",
       "      <td>...</td>\n",
       "      <td>0</td>\n",
       "      <td>0</td>\n",
       "      <td>0</td>\n",
       "      <td>1</td>\n",
       "      <td>0.0</td>\n",
       "      <td>0.0</td>\n",
       "      <td>0.0</td>\n",
       "      <td>2007.0</td>\n",
       "      <td>5.0</td>\n",
       "      <td>4.0</td>\n",
       "    </tr>\n",
       "    <tr>\n",
       "      <th>399</th>\n",
       "      <td>1</td>\n",
       "      <td>39196</td>\n",
       "      <td>117.0</td>\n",
       "      <td>222.0</td>\n",
       "      <td>164.0</td>\n",
       "      <td>9.0</td>\n",
       "      <td>0</td>\n",
       "      <td>0</td>\n",
       "      <td>0</td>\n",
       "      <td>0</td>\n",
       "      <td>...</td>\n",
       "      <td>0</td>\n",
       "      <td>0</td>\n",
       "      <td>0</td>\n",
       "      <td>1</td>\n",
       "      <td>0.0</td>\n",
       "      <td>0.0</td>\n",
       "      <td>0.0</td>\n",
       "      <td>2007.0</td>\n",
       "      <td>8.0</td>\n",
       "      <td>1.0</td>\n",
       "    </tr>\n",
       "  </tbody>\n",
       "</table>\n",
       "<p>400 rows × 228 columns</p>\n",
       "</div>"
      ],
      "text/plain": [
       "     label   port   ip_1   ip_2   ip_3   ip_4  contains [  contains ]  \\\n",
       "0        0     80  172.0  217.0  169.0   33.0           0           0   \n",
       "1        0     80  205.0  178.0  189.0  131.0           0           0   \n",
       "2        0     80   92.0  242.0  132.0   24.0           0           0   \n",
       "3        0    443   52.0  198.0   17.0  132.0           0           0   \n",
       "4        0     80   54.0  241.0   17.0   98.0           0           0   \n",
       "..     ...    ...    ...    ...    ...    ...         ...         ...   \n",
       "395      1  49963  219.0  155.0   98.0   60.0           0           0   \n",
       "396      1  44360   59.0   23.0   39.0  209.0           0           0   \n",
       "397      1  57652  103.0  235.0  165.0  165.0           0           0   \n",
       "398      1  37194  116.0   74.0  242.0   71.0           0           0   \n",
       "399      1  39196  117.0  222.0  164.0    9.0           0           0   \n",
       "\n",
       "     contains {  contains }  ...  x_powered_by_W3 Total Cache/0.11.0  \\\n",
       "0             0           0  ...                                   0   \n",
       "1             0           0  ...                                   0   \n",
       "2             0           0  ...                                   0   \n",
       "3             0           0  ...                                   0   \n",
       "4             0           0  ...                                   0   \n",
       "..          ...         ...  ...                                 ...   \n",
       "395           0           0  ...                                   0   \n",
       "396           0           0  ...                                   0   \n",
       "397           0           0  ...                                   0   \n",
       "398           0           0  ...                                   0   \n",
       "399           0           0  ...                                   0   \n",
       "\n",
       "     x_powered_by_WordPress VIP <https://wpvip.com>  x_powered_by_science!  \\\n",
       "0                                                 0                      0   \n",
       "1                                                 0                      0   \n",
       "2                                                 0                      0   \n",
       "3                                                 0                      0   \n",
       "4                                                 0                      0   \n",
       "..                                              ...                    ...   \n",
       "395                                               0                      0   \n",
       "396                                               0                      0   \n",
       "397                                               0                      0   \n",
       "398                                               0                      0   \n",
       "399                                               0                      0   \n",
       "\n",
       "     x_powered_by_nan  expires_year  expires_month  expires_day  \\\n",
       "0                   0        2021.0            3.0         16.0   \n",
       "1                   0           0.0            0.0          0.0   \n",
       "2                   0        2021.0            3.0         16.0   \n",
       "3                   0        1984.0            1.0         11.0   \n",
       "4                   1           0.0            0.0          0.0   \n",
       "..                ...           ...            ...          ...   \n",
       "395                 0        2021.0            3.0         16.0   \n",
       "396                 1           0.0            0.0          0.0   \n",
       "397                 1           0.0            0.0          0.0   \n",
       "398                 1           0.0            0.0          0.0   \n",
       "399                 1           0.0            0.0          0.0   \n",
       "\n",
       "     asn_date_year  asn_date_month  asn_date_day  \n",
       "0           2012.0             4.0          16.0  \n",
       "1           1999.0             2.0           9.0  \n",
       "2           2007.0            12.0          27.0  \n",
       "3           2015.0             9.0           2.0  \n",
       "4           2012.0             3.0           1.0  \n",
       "..             ...             ...           ...  \n",
       "395         2002.0             3.0          21.0  \n",
       "396         2004.0             8.0           2.0  \n",
       "397         2016.0             9.0          14.0  \n",
       "398         2007.0             5.0           4.0  \n",
       "399         2007.0             8.0           1.0  \n",
       "\n",
       "[400 rows x 228 columns]"
      ]
     },
     "execution_count": 162,
     "metadata": {},
     "output_type": "execute_result"
    }
   ],
   "source": [
    "ml_data = pd.read_csv(\"ml_data/ml_data.csv\")\n",
    "ml_data"
   ]
  },
  {
   "cell_type": "code",
   "execution_count": 163,
   "metadata": {},
   "outputs": [],
   "source": [
    "scaler = StandardScaler()\n",
    "y = ml_data['label']\n",
    "ml_data = ml_data.drop('label', axis=1)\n",
    "x = scaler.fit_transform(ml_data)"
   ]
  },
  {
   "cell_type": "code",
   "execution_count": 164,
   "metadata": {},
   "outputs": [],
   "source": [
    "x_train, x_test, y_train, y_test = train_test_split(x, y, test_size=0.30)"
   ]
  },
  {
   "cell_type": "code",
   "execution_count": 165,
   "metadata": {},
   "outputs": [
    {
     "data": {
      "text/plain": [
       "array([[-0.58092082, -1.26451271, -1.27574734, ..., -1.91076799,\n",
       "        -1.23743023, -1.23294685],\n",
       "       [ 1.56503928,  0.38232095, -0.6343594 , ...,  0.52218147,\n",
       "         0.38618956, -0.57811924],\n",
       "       [-0.58092082,  1.006982  ,  0.90497166, ...,  0.53066287,\n",
       "         0.61813525, -0.29747883],\n",
       "       ...,\n",
       "       [-0.56328598, -1.26451271, -1.27574734, ..., -1.91076799,\n",
       "        -1.23743023, -1.23294685],\n",
       "       [ 2.29890099,  0.33973043, -0.94436357, ...,  0.52218147,\n",
       "         1.54591799,  0.17025518],\n",
       "       [-0.56328598, -1.26451271, -1.27574734, ..., -1.91076799,\n",
       "        -1.23743023, -1.23294685]])"
      ]
     },
     "execution_count": 165,
     "metadata": {},
     "output_type": "execute_result"
    }
   ],
   "source": [
    "x_train"
   ]
  },
  {
   "cell_type": "markdown",
   "metadata": {},
   "source": [
    "## Models"
   ]
  },
  {
   "cell_type": "markdown",
   "metadata": {},
   "source": [
    "### Random Forest"
   ]
  },
  {
   "cell_type": "code",
   "execution_count": 166,
   "metadata": {},
   "outputs": [
    {
     "data": {
      "text/plain": [
       "RandomForestClassifier()"
      ]
     },
     "execution_count": 166,
     "metadata": {},
     "output_type": "execute_result"
    }
   ],
   "source": [
    "## TODO might not need these starting bits\n",
    "\n",
    "# Initialise the model\n",
    "rfc = RandomForestClassifier()\n",
    "\n",
    "# Train the model on the training data and the training data survivors\n",
    "rfc.fit(x_train, y_train)"
   ]
  },
  {
   "cell_type": "code",
   "execution_count": 167,
   "metadata": {},
   "outputs": [
    {
     "name": "stdout",
     "output_type": "stream",
     "text": [
      "Fitting 3 folds for each of 576 candidates, totalling 1728 fits\n"
     ]
    },
    {
     "name": "stderr",
     "output_type": "stream",
     "text": [
      "[Parallel(n_jobs=-1)]: Using backend LokyBackend with 8 concurrent workers.\n",
      "[Parallel(n_jobs=-1)]: Done  25 tasks      | elapsed:    9.9s\n",
      "[Parallel(n_jobs=-1)]: Done 146 tasks      | elapsed:   29.9s\n",
      "[Parallel(n_jobs=-1)]: Done 349 tasks      | elapsed:  1.1min\n",
      "[Parallel(n_jobs=-1)]: Done 632 tasks      | elapsed:  1.9min\n",
      "[Parallel(n_jobs=-1)]: Done 997 tasks      | elapsed:  2.8min\n",
      "[Parallel(n_jobs=-1)]: Done 1442 tasks      | elapsed:  3.9min\n",
      "[Parallel(n_jobs=-1)]: Done 1728 out of 1728 | elapsed:  4.6min finished\n"
     ]
    },
    {
     "name": "stdout",
     "output_type": "stream",
     "text": [
      "{'bootstrap': True, 'max_depth': 90, 'max_features': 3, 'min_samples_leaf': 3, 'min_samples_split': 10, 'n_estimators': 200}\n"
     ]
    }
   ],
   "source": [
    "# RF hyperparameters\n",
    "param_grid = {\n",
    "    'bootstrap': [True, False],\n",
    "    'max_depth': [80, 90, 100, 110],\n",
    "    'max_features': [2, 3],\n",
    "    'min_samples_leaf': [3, 4, 5],\n",
    "    'min_samples_split': [8, 10, 12],\n",
    "    'n_estimators': [100, 200, 300, 1000]\n",
    "}\n",
    "\n",
    "grid_search = GridSearchCV(estimator = RandomForestClassifier(), param_grid = param_grid, \n",
    "                          cv = 3, n_jobs = -1, verbose = 2)\n",
    "\n",
    "grid_search.fit(x_train, y_train)\n",
    "\n",
    "print(grid_search.best_params_)"
   ]
  },
  {
   "cell_type": "code",
   "execution_count": 168,
   "metadata": {},
   "outputs": [
    {
     "name": "stdout",
     "output_type": "stream",
     "text": [
      "0.8583333333333333\n"
     ]
    }
   ],
   "source": [
    "# Make a new Random Forest model based on the best parameters found before\n",
    "rfc = RandomForestClassifier(**grid_search.best_params_)\n",
    "\n",
    "# Fit the model to the training data\n",
    "rfc.fit(x_train, y_train)\n",
    "\n",
    "# Get a predicition from the test data\n",
    "pred = rfc.predict(x_test)\n",
    "\n",
    "# Generate an accuracy from the prediction\n",
    "rfc_acc = accuracy_score(y_test, pred)\n",
    "\n",
    "print(rfc_acc)"
   ]
  },
  {
   "cell_type": "code",
   "execution_count": 169,
   "metadata": {},
   "outputs": [
    {
     "name": "stdout",
     "output_type": "stream",
     "text": [
      "[[55 10]\n",
      " [ 7 48]]\n"
     ]
    }
   ],
   "source": [
    "rfc_confusion = confusion_matrix(y_test, pred)\n",
    "print(rfc_confusion)"
   ]
  },
  {
   "cell_type": "code",
   "execution_count": 170,
   "metadata": {},
   "outputs": [
    {
     "name": "stdout",
     "output_type": "stream",
     "text": [
      "{'0': {'precision': 0.8870967741935484, 'recall': 0.8461538461538461, 'f1-score': 0.8661417322834646, 'support': 65}, '1': {'precision': 0.8275862068965517, 'recall': 0.8727272727272727, 'f1-score': 0.8495575221238938, 'support': 55}, 'accuracy': 0.8583333333333333, 'macro avg': {'precision': 0.85734149054505, 'recall': 0.8594405594405594, 'f1-score': 0.8578496272036792, 'support': 120}, 'weighted avg': {'precision': 0.8598210975157582, 'recall': 0.8583333333333333, 'f1-score': 0.858540635960328, 'support': 120}}\n"
     ]
    }
   ],
   "source": [
    "rfc_classification = classification_report(y_test, pred, output_dict=True)\n",
    "print(rfc_classification)"
   ]
  },
  {
   "cell_type": "markdown",
   "metadata": {},
   "source": [
    "### Logistic Regression"
   ]
  },
  {
   "cell_type": "code",
   "execution_count": 171,
   "metadata": {},
   "outputs": [
    {
     "data": {
      "text/plain": [
       "LogisticRegression()"
      ]
     },
     "execution_count": 171,
     "metadata": {},
     "output_type": "execute_result"
    }
   ],
   "source": [
    "# Initialise the model\n",
    "lr = LogisticRegression()\n",
    "\n",
    "# Fit the model with the training data\n",
    "lr.fit(x_train, y_train)"
   ]
  },
  {
   "cell_type": "code",
   "execution_count": 172,
   "metadata": {},
   "outputs": [
    {
     "name": "stdout",
     "output_type": "stream",
     "text": [
      "Fitting 3 folds for each of 375 candidates, totalling 1125 fits\n"
     ]
    },
    {
     "name": "stderr",
     "output_type": "stream",
     "text": [
      "[Parallel(n_jobs=-1)]: Using backend LokyBackend with 8 concurrent workers.\n",
      "[Parallel(n_jobs=-1)]: Done  34 tasks      | elapsed:    0.3s\n",
      "[Parallel(n_jobs=-1)]: Done 1069 tasks      | elapsed:   27.5s\n"
     ]
    },
    {
     "name": "stdout",
     "output_type": "stream",
     "text": [
      "{'C': 1, 'max_iter': 100, 'penalty': 'l1', 'solver': 'liblinear'}\n"
     ]
    },
    {
     "name": "stderr",
     "output_type": "stream",
     "text": [
      "[Parallel(n_jobs=-1)]: Done 1125 out of 1125 | elapsed:   33.4s finished\n"
     ]
    }
   ],
   "source": [
    "param_grid = {\n",
    "    'penalty': ['l1', 'l2', 'elasticnet'],\n",
    "    'solver': ['newton-cg', 'lbfgs', 'liblinear', 'sag', 'saga'],\n",
    "    'max_iter':[100, 500, 1000, 5000, 10000],\n",
    "    'C': [0.01, 0.1, 1, 10, 100]\n",
    "}\n",
    "\n",
    "grid_search = GridSearchCV(estimator = LogisticRegression(), param_grid = param_grid, \n",
    "                          cv = 3, n_jobs = -1, verbose = 2)\n",
    "\n",
    "grid_search.fit(x_train, y_train)\n",
    "\n",
    "print(grid_search.best_params_)"
   ]
  },
  {
   "cell_type": "code",
   "execution_count": 173,
   "metadata": {},
   "outputs": [
    {
     "name": "stdout",
     "output_type": "stream",
     "text": [
      "0.875\n"
     ]
    }
   ],
   "source": [
    "# Make a new Logistic Regression model based on the best parameters found before\n",
    "lr = LogisticRegression(**grid_search.best_params_)\n",
    "\n",
    "# Fit the model with the training data\n",
    "lr.fit(x_train, y_train)\n",
    "\n",
    "# Predict with the test data\n",
    "pred = lr.predict(x_test)\n",
    "\n",
    "# Get an accuracy score with the predicition\n",
    "lr_acc = accuracy_score(y_test, pred)\n",
    "\n",
    "print(lr_acc)"
   ]
  },
  {
   "cell_type": "code",
   "execution_count": 174,
   "metadata": {},
   "outputs": [
    {
     "name": "stdout",
     "output_type": "stream",
     "text": [
      "[[54 11]\n",
      " [ 4 51]]\n"
     ]
    }
   ],
   "source": [
    "lr_confusion = confusion_matrix(y_test, pred)\n",
    "print(lr_confusion)"
   ]
  },
  {
   "cell_type": "code",
   "execution_count": 175,
   "metadata": {},
   "outputs": [
    {
     "name": "stdout",
     "output_type": "stream",
     "text": [
      "{'0': {'precision': 0.9310344827586207, 'recall': 0.8307692307692308, 'f1-score': 0.8780487804878049, 'support': 65}, '1': {'precision': 0.8225806451612904, 'recall': 0.9272727272727272, 'f1-score': 0.8717948717948718, 'support': 55}, 'accuracy': 0.875, 'macro avg': {'precision': 0.8768075639599555, 'recall': 0.8790209790209791, 'f1-score': 0.8749218261413383, 'support': 120}, 'weighted avg': {'precision': 0.8813264738598442, 'recall': 0.875, 'f1-score': 0.8751824056702106, 'support': 120}}\n"
     ]
    }
   ],
   "source": [
    "lr_classification = classification_report(y_test, pred, output_dict=True)\n",
    "print(lr_classification)"
   ]
  },
  {
   "cell_type": "markdown",
   "metadata": {},
   "source": [
    "### K Nearest Neighbours"
   ]
  },
  {
   "cell_type": "code",
   "execution_count": 176,
   "metadata": {},
   "outputs": [
    {
     "data": {
      "text/plain": [
       "KNeighborsClassifier()"
      ]
     },
     "execution_count": 176,
     "metadata": {},
     "output_type": "execute_result"
    }
   ],
   "source": [
    "# Initialise model\n",
    "knn = KNeighborsClassifier()\n",
    "\n",
    "# Fit the model with the training data\n",
    "knn.fit(x_train, y_train)"
   ]
  },
  {
   "cell_type": "code",
   "execution_count": 177,
   "metadata": {},
   "outputs": [
    {
     "name": "stdout",
     "output_type": "stream",
     "text": [
      "Fitting 3 folds for each of 160 candidates, totalling 480 fits\n"
     ]
    },
    {
     "name": "stderr",
     "output_type": "stream",
     "text": [
      "[Parallel(n_jobs=-1)]: Using backend LokyBackend with 8 concurrent workers.\n",
      "[Parallel(n_jobs=-1)]: Done  34 tasks      | elapsed:    0.2s\n"
     ]
    },
    {
     "name": "stdout",
     "output_type": "stream",
     "text": [
      "{'leaf_size': 15, 'metric': 'manhattan', 'n_neighbors': 7, 'weights': 'distance'}\n"
     ]
    },
    {
     "name": "stderr",
     "output_type": "stream",
     "text": [
      "[Parallel(n_jobs=-1)]: Done 480 out of 480 | elapsed:    1.9s finished\n"
     ]
    }
   ],
   "source": [
    "param_grid = {\n",
    "    'n_neighbors': [1, 3, 5, 7, 9],\n",
    "    'weights': ['uniform', 'distance'],\n",
    "    'metric':['euclidean', 'manhattan', 'chebyshev', 'minkowski'],\n",
    "    'leaf_size': [15, 30, 45, 60]\n",
    "}\n",
    "\n",
    "grid_search = GridSearchCV(estimator = KNeighborsClassifier(), param_grid = param_grid, \n",
    "                          cv = 3, n_jobs = -1, verbose = 2)\n",
    "\n",
    "grid_search.fit(x_train, y_train)\n",
    "\n",
    "print(grid_search.best_params_)"
   ]
  },
  {
   "cell_type": "code",
   "execution_count": 178,
   "metadata": {},
   "outputs": [
    {
     "name": "stdout",
     "output_type": "stream",
     "text": [
      "0.85\n"
     ]
    }
   ],
   "source": [
    "# Make a new KNN model based on the best parameters found before\n",
    "knn = KNeighborsClassifier(**grid_search.best_params_)\n",
    "\n",
    "# Fit the model to the scaled data\n",
    "knn.fit(x_train, y_train)\n",
    "\n",
    "# Get a prediction from the scaled test data\n",
    "pred = knn.predict(x_test)\n",
    "\n",
    "# Generate an accuracy score\n",
    "knn_acc = accuracy_score(y_test, pred)\n",
    "\n",
    "print(knn_acc)"
   ]
  },
  {
   "cell_type": "code",
   "execution_count": 179,
   "metadata": {},
   "outputs": [
    {
     "name": "stdout",
     "output_type": "stream",
     "text": [
      "[[56  9]\n",
      " [ 9 46]]\n"
     ]
    }
   ],
   "source": [
    "knn_confusion = confusion_matrix(y_test, pred)\n",
    "print(knn_confusion)"
   ]
  },
  {
   "cell_type": "code",
   "execution_count": 180,
   "metadata": {},
   "outputs": [
    {
     "name": "stdout",
     "output_type": "stream",
     "text": [
      "{'0': {'precision': 0.8615384615384616, 'recall': 0.8615384615384616, 'f1-score': 0.8615384615384615, 'support': 65}, '1': {'precision': 0.8363636363636363, 'recall': 0.8363636363636363, 'f1-score': 0.8363636363636363, 'support': 55}, 'accuracy': 0.85, 'macro avg': {'precision': 0.848951048951049, 'recall': 0.848951048951049, 'f1-score': 0.8489510489510489, 'support': 120}, 'weighted avg': {'precision': 0.85, 'recall': 0.85, 'f1-score': 0.85, 'support': 120}}\n"
     ]
    }
   ],
   "source": [
    "knn_classification = classification_report(y_test, pred, output_dict=True)\n",
    "print(knn_classification)"
   ]
  },
  {
   "cell_type": "markdown",
   "metadata": {},
   "source": [
    "### Support Vector Classifier"
   ]
  },
  {
   "cell_type": "code",
   "execution_count": 181,
   "metadata": {},
   "outputs": [
    {
     "data": {
      "text/plain": [
       "SVC()"
      ]
     },
     "execution_count": 181,
     "metadata": {},
     "output_type": "execute_result"
    }
   ],
   "source": [
    "# Initialise model\n",
    "svc = SVC()\n",
    "\n",
    "# Fit the model to the training data\n",
    "svc.fit(x_train, y_train)"
   ]
  },
  {
   "cell_type": "code",
   "execution_count": 182,
   "metadata": {},
   "outputs": [
    {
     "name": "stdout",
     "output_type": "stream",
     "text": [
      "Fitting 3 folds for each of 108 candidates, totalling 324 fits\n"
     ]
    },
    {
     "name": "stderr",
     "output_type": "stream",
     "text": [
      "[Parallel(n_jobs=-1)]: Using backend LokyBackend with 8 concurrent workers.\n",
      "[Parallel(n_jobs=-1)]: Done  34 tasks      | elapsed:    0.2s\n"
     ]
    },
    {
     "name": "stdout",
     "output_type": "stream",
     "text": [
      "{'C': 100, 'gamma': 0.001, 'kernel': 'rbf'}\n"
     ]
    },
    {
     "name": "stderr",
     "output_type": "stream",
     "text": [
      "[Parallel(n_jobs=-1)]: Done 324 out of 324 | elapsed:    1.2s finished\n"
     ]
    }
   ],
   "source": [
    "param_grid = {\n",
    "    'C': [0.01, 0.1, 1, 10, 100, 1000],  \n",
    "    'gamma': [2, 1, 0.1, 0.01, 0.001, 0.0001], \n",
    "    'kernel': ['rbf', 'linear', 'sigmoid']\n",
    "}\n",
    "\n",
    "grid_search = GridSearchCV(estimator = SVC(), param_grid = param_grid, \n",
    "                          cv = 3, n_jobs = -1, verbose = 2)\n",
    "\n",
    "grid_search.fit(x_train, y_train)\n",
    "\n",
    "print(grid_search.best_params_)"
   ]
  },
  {
   "cell_type": "code",
   "execution_count": 183,
   "metadata": {},
   "outputs": [
    {
     "name": "stdout",
     "output_type": "stream",
     "text": [
      "0.9166666666666666\n"
     ]
    }
   ],
   "source": [
    "# Make a new SVC model based on the best parameters found before\n",
    "svc = SVC(**grid_search.best_params_)\n",
    "\n",
    "# Fit model to scaled data\n",
    "svc.fit(x_train, y_train)\n",
    "\n",
    "# Predict using the scaled testing data\n",
    "pred = svc.predict(x_test)\n",
    "\n",
    "# Generate an accuracy score\n",
    "svc_acc = accuracy_score(y_test, pred)\n",
    "\n",
    "print(svc_acc)"
   ]
  },
  {
   "cell_type": "code",
   "execution_count": 184,
   "metadata": {},
   "outputs": [
    {
     "name": "stdout",
     "output_type": "stream",
     "text": [
      "[[61  4]\n",
      " [ 6 49]]\n"
     ]
    }
   ],
   "source": [
    "svc_confusion = confusion_matrix(y_test, pred)\n",
    "print(svc_confusion)"
   ]
  },
  {
   "cell_type": "code",
   "execution_count": 185,
   "metadata": {},
   "outputs": [
    {
     "name": "stdout",
     "output_type": "stream",
     "text": [
      "{'0': {'precision': 0.9104477611940298, 'recall': 0.9384615384615385, 'f1-score': 0.9242424242424243, 'support': 65}, '1': {'precision': 0.9245283018867925, 'recall': 0.8909090909090909, 'f1-score': 0.9074074074074073, 'support': 55}, 'accuracy': 0.9166666666666666, 'macro avg': {'precision': 0.9174880315404111, 'recall': 0.9146853146853147, 'f1-score': 0.9158249158249159, 'support': 120}, 'weighted avg': {'precision': 0.9169013423448793, 'recall': 0.9166666666666666, 'f1-score': 0.9165263748597082, 'support': 120}}\n"
     ]
    }
   ],
   "source": [
    "svc_classification = classification_report(y_test, pred, output_dict=True)\n",
    "print(svc_classification)"
   ]
  },
  {
   "cell_type": "code",
   "execution_count": null,
   "metadata": {},
   "outputs": [],
   "source": []
  },
  {
   "cell_type": "markdown",
   "metadata": {},
   "source": [
    "## Evaluation"
   ]
  },
  {
   "cell_type": "code",
   "execution_count": 186,
   "metadata": {},
   "outputs": [
    {
     "name": "stdout",
     "output_type": "stream",
     "text": [
      "RFC accuracy: 0.8583333333333333\n",
      "LR accuracy: 0.875\n",
      "KNN accuracy: 0.85\n",
      "SVC accuracy: 0.9166666666666666\n"
     ]
    }
   ],
   "source": [
    "labels = ['RFC', 'LR', 'KNN', 'SVC']\n",
    "accuracy = [rfc_acc, lr_acc, knn_acc, svc_acc]\n",
    "\n",
    "for acc, label in zip(accuracy, labels):\n",
    "    print(f'{label} accuracy: {acc}')"
   ]
  },
  {
   "cell_type": "code",
   "execution_count": 187,
   "metadata": {},
   "outputs": [
    {
     "name": "stdout",
     "output_type": "stream",
     "text": [
      "RFC\n",
      "[55 10]\n",
      "LR\n",
      "[54 11]\n",
      "KNN\n",
      "[56  9]\n",
      "SVC\n",
      "[61  4]\n",
      "\n",
      "RFC\n",
      "[ 7 48]\n",
      "LR\n",
      "[ 4 51]\n",
      "KNN\n",
      "[ 9 46]\n",
      "SVC\n",
      "[ 6 49]\n",
      "\n"
     ]
    }
   ],
   "source": [
    "matrices = [rfc_confusion, lr_confusion, knn_confusion, svc_confusion]\n",
    "\n",
    "for i in [0, 1]:\n",
    "    for matrix, label in zip(matrices, labels):\n",
    "        print(f'{label}')\n",
    "        print(matrix[i])\n",
    "    print()"
   ]
  },
  {
   "cell_type": "code",
   "execution_count": 188,
   "metadata": {},
   "outputs": [
    {
     "name": "stdout",
     "output_type": "stream",
     "text": [
      "RFC\n",
      "{'precision': 0.8870967741935484, 'recall': 0.8461538461538461, 'f1-score': 0.8661417322834646, 'support': 65}\n",
      "LR\n",
      "{'precision': 0.9310344827586207, 'recall': 0.8307692307692308, 'f1-score': 0.8780487804878049, 'support': 65}\n",
      "KNN\n",
      "{'precision': 0.8615384615384616, 'recall': 0.8615384615384616, 'f1-score': 0.8615384615384615, 'support': 65}\n",
      "SVC\n",
      "{'precision': 0.9104477611940298, 'recall': 0.9384615384615385, 'f1-score': 0.9242424242424243, 'support': 65}\n",
      "\n",
      "RFC\n",
      "{'precision': 0.8275862068965517, 'recall': 0.8727272727272727, 'f1-score': 0.8495575221238938, 'support': 55}\n",
      "LR\n",
      "{'precision': 0.8225806451612904, 'recall': 0.9272727272727272, 'f1-score': 0.8717948717948718, 'support': 55}\n",
      "KNN\n",
      "{'precision': 0.8363636363636363, 'recall': 0.8363636363636363, 'f1-score': 0.8363636363636363, 'support': 55}\n",
      "SVC\n",
      "{'precision': 0.9245283018867925, 'recall': 0.8909090909090909, 'f1-score': 0.9074074074074073, 'support': 55}\n",
      "\n"
     ]
    }
   ],
   "source": [
    "reports = [rfc_classification, lr_classification, knn_classification, svc_classification]\n",
    "\n",
    "for i in [0, 1]:\n",
    "    for report, label in zip(reports, labels):\n",
    "        print(f'{label}')\n",
    "        print(report.get(f'{i}'))\n",
    "    print()"
   ]
  },
  {
   "cell_type": "code",
   "execution_count": 189,
   "metadata": {},
   "outputs": [
    {
     "data": {
      "image/png": "[encoded data removed]",
      "text/plain": [
       "<Figure size 432x288 with 1 Axes>"
      ]
     },
     "metadata": {
      "needs_background": "light"
     },
     "output_type": "display_data"
    }
   ],
   "source": [
    "plot_roc_curve(rfc, x_test, y_test)  \n",
    "plt.show()"
   ]
  },
  {
   "cell_type": "code",
   "execution_count": 190,
   "metadata": {},
   "outputs": [
    {
     "data": {
      "text/plain": [
       "<Figure size 432x288 with 0 Axes>"
      ]
     },
     "metadata": {},
     "output_type": "display_data"
    },
    {
     "data": {
      "image/png": "[encoded data removed]",
      "text/plain": [
       "<Figure size 432x288 with 1 Axes>"
      ]
     },
     "metadata": {
      "needs_background": "light"
     },
     "output_type": "display_data"
    }
   ],
   "source": [
    "plt.clf()\n",
    "plot_roc_curve(lr, x_test, y_test)  \n",
    "plt.show()"
   ]
  },
  {
   "cell_type": "code",
   "execution_count": 191,
   "metadata": {},
   "outputs": [
    {
     "data": {
      "text/plain": [
       "<Figure size 432x288 with 0 Axes>"
      ]
     },
     "metadata": {},
     "output_type": "display_data"
    },
    {
     "data": {
      "image/png": "[encoded data removed]",
      "text/plain": [
       "<Figure size 432x288 with 1 Axes>"
      ]
     },
     "metadata": {
      "needs_background": "light"
     },
     "output_type": "display_data"
    }
   ],
   "source": [
    "plt.clf()\n",
    "plot_roc_curve(knn, x_test, y_test)  \n",
    "plt.show()"
   ]
  },
  {
   "cell_type": "code",
   "execution_count": 192,
   "metadata": {},
   "outputs": [
    {
     "data": {
      "text/plain": [
       "<Figure size 432x288 with 0 Axes>"
      ]
     },
     "metadata": {},
     "output_type": "display_data"
    },
    {
     "data": {
      "image/png": "[encoded data removed]",
      "text/plain": [
       "<Figure size 432x288 with 1 Axes>"
      ]
     },
     "metadata": {
      "needs_background": "light"
     },
     "output_type": "display_data"
    }
   ],
   "source": [
    "plt.clf()\n",
    "plot_roc_curve(svc, x_test, y_test)  \n",
    "plt.show()"
   ]
  },
  {
   "cell_type": "code",
   "execution_count": null,
   "metadata": {},
   "outputs": [],
   "source": []
  },
  {
   "cell_type": "markdown",
   "metadata": {},
   "source": [
    "## Saving The Models"
   ]
  },
  {
   "cell_type": "code",
   "execution_count": 195,
   "metadata": {},
   "outputs": [],
   "source": [
    "with open('ml_data/columns_used.txt', 'w') as f:\n",
    "    for item in list(ml_data.columns.values):\n",
    "        f.write(f'{item}\\n')"
   ]
  },
  {
   "cell_type": "code",
   "execution_count": 196,
   "metadata": {},
   "outputs": [],
   "source": [
    "pickle.dump(rfc, open('ml_models/rfc', 'wb'))\n",
    "pickle.dump(lr, open('ml_models/lr', 'wb'))\n",
    "pickle.dump(knn, open('ml_models/knn', 'wb'))\n",
    "pickle.dump(svc, open('ml_models/svc', 'wb'))"
   ]
  },
  {
   "cell_type": "code",
   "execution_count": 197,
   "metadata": {},
   "outputs": [
    {
     "data": {
      "text/plain": [
       "['std_scaler.bin']"
      ]
     },
     "execution_count": 197,
     "metadata": {},
     "output_type": "execute_result"
    }
   ],
   "source": [
    "joblib.dump(scaler, 'std_scaler.bin', compress=True)"
   ]
  },
  {
   "cell_type": "code",
   "execution_count": null,
   "metadata": {},
   "outputs": [],
   "source": []
  }
 ],
 "metadata": {
  "kernelspec": {
   "display_name": "Python 3",
   "language": "python",
   "name": "python3"
  },
  "language_info": {
   "codemirror_mode": {
    "name": "ipython",
    "version": 3
   },
   "file_extension": ".py",
   "mimetype": "text/x-python",
   "name": "python",
   "nbconvert_exporter": "python",
   "pygments_lexer": "ipython3",
   "version": "3.7.6"
  }
 },
 "nbformat": 4,
 "nbformat_minor": 4
}
